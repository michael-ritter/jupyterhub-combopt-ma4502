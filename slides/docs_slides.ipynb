{
 "cells": [
  {
   "cell_type": "markdown",
   "metadata": {
    "slideshow": {
     "slide_type": "slide"
    }
   },
   "source": [
    "# JupyterHub Deployment for ENGR101 2019Q1"
   ]
  },
  {
   "cell_type": "markdown",
   "metadata": {
    "slideshow": {
     "slide_type": "slide"
    }
   },
   "source": [
    "# JupyterHub Deployment\n",
    "\n",
    "\n",
    "## Part 01. Introduction\n",
    "\n",
    " * ### Jupyter Notebook (running locally)\n",
    "\n",
    " * ### JupyterHub (running on the cloud)"
   ]
  },
  {
   "cell_type": "markdown",
   "metadata": {
    "slideshow": {
     "slide_type": "slide"
    }
   },
   "source": [
    "# JupyterHub Deployment\n",
    "\n",
    "## Part 02. What is JupyterHub?\n",
    "\n",
    " * ### What is JupyterHub?\n",
    "\n",
    " * ### Why JupyterHub?"
   ]
  },
  {
   "cell_type": "markdown",
   "metadata": {
    "slideshow": {
     "slide_type": "slide"
    }
   },
   "source": [
    "# JupyterHub Deployment\n",
    "\n",
    "## Part 03. Setup and Tools\n",
    "\n",
    "* ### File Locations\n",
    "\n",
    "* ### Development Tools"
   ]
  },
  {
   "cell_type": "markdown",
   "metadata": {
    "slideshow": {
     "slide_type": "subslide"
    }
   },
   "source": [
    "## JupyterHub file locations\n",
    "\n",
    "Put all the files used by JupyterHub into standard UNIX filesystem locations:\n",
    "\n",
    " * ```/srv/jupyterhub``` for all security and runtime files\n",
    " * ```/etc/jupyterhub``` for all configuration files\n",
    " * ```/var/log``` for log files\n"
   ]
  },
  {
   "cell_type": "markdown",
   "metadata": {
    "slideshow": {
     "slide_type": "slide"
    }
   },
   "source": [
    "# JupyterHub Deployment\n",
    "\n",
    "## Part 04. SSH Keys\n",
    "\n",
    " * ### Why SSH Keys?\n",
    "\n",
    " * ### PuTTY Gen"
   ]
  },
  {
   "cell_type": "markdown",
   "metadata": {
    "slideshow": {
     "slide_type": "slide"
    }
   },
   "source": [
    "# JupyterHub Deployment\n",
    "\n",
    "## Part 05. Server Setup\n",
    "\n",
    " * ### Create a Digital Ocean Droplet\n",
    "\n",
    " * ### Log onto the new server\n",
    "\n",
    " * ### Add a non-root sudo user\n",
    "\n",
    " * ### Add SSH keys to the new user's profile\n",
    "\n",
    " * ### Connect to the server as the new user"
   ]
  },
  {
   "cell_type": "markdown",
   "metadata": {
    "slideshow": {
     "slide_type": "slide"
    }
   },
   "source": [
    "# JupyterHub Deployment\n",
    "\n",
    "## Part 06. Install JupyterHub\n",
    "\n",
    " * ### Install Miniconda\n",
    "\n",
    " * ### Change Permissions\n",
    "\n",
    " * ### Create a virtual environment\n",
    "\n",
    " * ### Install Python packages and JupyterHub\n",
    "\n",
    " * ### Run JupyterHub"
   ]
  },
  {
   "cell_type": "markdown",
   "metadata": {
    "slideshow": {
     "slide_type": "slide"
    }
   },
   "source": [
    "# JupyterHub Deployment\n",
    "\n",
    "## Part 07. DNS Routing\n",
    "\n",
    " * ### Aquire a domain name\n",
    "\n",
    " * ### Link domain name to server"
   ]
  },
  {
   "cell_type": "markdown",
   "metadata": {
    "slideshow": {
     "slide_type": "slide"
    }
   },
   "source": [
    "# JupyterHub Deployment\n",
    "\n",
    "## Part 08. SSL Certificates\n",
    "\n",
    " * ### Modify ufw firewall\n",
    "\n",
    " * ### Install Certbot\n",
    "\n",
    " * ### Run Certbot\n",
    "\n",
    " * ### Modify cert key permissions"
   ]
  },
  {
   "cell_type": "markdown",
   "metadata": {
    "slideshow": {
     "slide_type": "slide"
    }
   },
   "source": [
    "# JupyterHub Deployment\n",
    "\n",
    "## Part 09. Cookie Secret and Proxy Auth Token\n",
    "\n",
    " * ### Create a cookie secret\n",
    "\n",
    " * ### Create a proxy auth token\n",
    "\n",
    " * ### Create a dhparam.pem file"
   ]
  },
  {
   "cell_type": "markdown",
   "metadata": {
    "slideshow": {
     "slide_type": "slide"
    }
   },
   "source": [
    "# JupyterHub Deployment\n",
    "\n",
    "## Part 10. Install Nginx\n",
    "\n",
    " * ### Install Nginx\n",
    "\n",
    " * ### Modify ufw firewall\n",
    "\n",
    " * ### Test Nginx"
   ]
  },
  {
   "cell_type": "markdown",
   "metadata": {
    "slideshow": {
     "slide_type": "slide"
    }
   },
   "source": [
    "# JupyterHub Deployment\n",
    "\n",
    "## Part 11. Nginx Configuration\n",
    "\n",
    " * ### Step 1\n",
    "\n",
    " * ### Step 2\n",
    "\n",
    " * ### Step 3"
   ]
  },
  {
   "cell_type": "markdown",
   "metadata": {
    "slideshow": {
     "slide_type": "slide"
    }
   },
   "source": [
    "# JupyterHub Deployment\n",
    "\n",
    "## Part 12. JupyterHub as a System Service\n",
    "\n",
    " * ### Step 1\n",
    "\n",
    " * ### Step 2\n",
    "\n",
    " * ### Step 3"
   ]
  },
  {
   "cell_type": "markdown",
   "metadata": {
    "slideshow": {
     "slide_type": "slide"
    }
   },
   "source": [
    "# JupyterHub Deployment\n",
    "\n",
    "## Part 13. Add Users\n",
    "\n",
    " * ### Step 1\n",
    "\n",
    " * ### Step 2\n",
    "\n",
    " * ### Step 3"
   ]
  },
  {
   "cell_type": "markdown",
   "metadata": {
    "slideshow": {
     "slide_type": "slide"
    }
   },
   "source": [
    "# JupyterHub Deployment\n",
    "\n",
    "## Part 14. Google Authentication\n",
    "\n",
    " * ### Step 1\n",
    "\n",
    " * ### Step 2\n",
    "\n",
    " * ### Step 3"
   ]
  },
  {
   "cell_type": "markdown",
   "metadata": {
    "slideshow": {
     "slide_type": "slide"
    }
   },
   "source": [
    "# JupyterHub Deployment\n",
    "\n",
    "## Part 15. Custom Login Page\n",
    "\n",
    " * ### Step 1\n",
    "\n",
    " * ### Step 2\n",
    "\n",
    " * ### Step 3"
   ]
  },
  {
   "cell_type": "markdown",
   "metadata": {
    "slideshow": {
     "slide_type": "slide"
    }
   },
   "source": [
    "# JupyterHub Deployment\n",
    "\n",
    "## Part 16. Assignments on GitHub\n",
    "\n",
    " * ### Step 1\n",
    "\n",
    " * ### Step 2\n",
    "\n",
    " * ### Step 3"
   ]
  },
  {
   "cell_type": "markdown",
   "metadata": {
    "slideshow": {
     "slide_type": "slide"
    }
   },
   "source": [
    "# JupyterHub Deployment\n",
    "\n",
    "## Part 17. nbgitpuller plugin\n",
    "\n",
    " * ### Step 1\n",
    "\n",
    " * ### Step 2\n",
    "\n",
    " * ### Step 3"
   ]
  },
  {
   "cell_type": "markdown",
   "metadata": {
    "slideshow": {
     "slide_type": "slide"
    }
   },
   "source": [
    "# JupyterHub Deployment\n",
    "\n",
    "## Part 18. Extra Configuration\n",
    "\n",
    " * ### Step 1\n",
    "\n",
    " * ### Step 2\n",
    "\n",
    " * ### Step 3"
   ]
  },
  {
   "cell_type": "markdown",
   "metadata": {
    "slideshow": {
     "slide_type": "slide"
    }
   },
   "source": [
    "# JupyterHub Deployment\n",
    "\n",
    "## Part 19. Periodic Maintenance\n",
    "\n",
    " * ### Step 1\n",
    "\n",
    " * ### Step 2\n",
    "\n",
    " * ### Step 3"
   ]
  },
  {
   "cell_type": "code",
   "execution_count": null,
   "metadata": {},
   "outputs": [],
   "source": []
  }
 ],
 "metadata": {
  "celltoolbar": "Slideshow",
  "kernelspec": {
   "display_name": "Python 3",
   "language": "python",
   "name": "python3"
  },
  "language_info": {
   "codemirror_mode": {
    "name": "ipython",
    "version": 3
   },
   "file_extension": ".py",
   "mimetype": "text/x-python",
   "name": "python",
   "nbconvert_exporter": "python",
   "pygments_lexer": "ipython3",
   "version": "3.6.4"
  }
 },
 "nbformat": 4,
 "nbformat_minor": 2
}
